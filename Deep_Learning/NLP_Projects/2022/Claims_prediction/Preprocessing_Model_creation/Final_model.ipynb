{
  "nbformat": 4,
  "nbformat_minor": 0,
  "metadata": {
    "colab": {
      "name": "Final_model.ipynb",
      "provenance": [],
      "collapsed_sections": [],
      "machine_shape": "hm"
    },
    "kernelspec": {
      "name": "python3",
      "display_name": "Python 3"
    },
    "language_info": {
      "name": "python"
    }
  },
  "cells": [
    {
      "cell_type": "markdown",
      "source": [
        "**Installing texthero package to clean the text data**"
      ],
      "metadata": {
        "id": "zD8pyokpTLbc"
      }
    },
    {
      "cell_type": "code",
      "execution_count": null,
      "metadata": {
        "id": "AC3JA_lLQ_5h"
      },
      "outputs": [],
      "source": [
        "!pip install texthero"
      ]
    },
    {
      "cell_type": "markdown",
      "source": [
        "**Importing the required packages to create a model**"
      ],
      "metadata": {
        "id": "IR6wAID6TW1k"
      }
    },
    {
      "cell_type": "code",
      "source": [
        "import pandas as pd\n",
        "import texthero as hero\n",
        "import numpy as np\n",
        "import seaborn as sns\n",
        "import matplotlib.pyplot as plt\n",
        "import warnings\n",
        "import pickle\n",
        "import re\n",
        "from sklearn.metrics import jaccard_score\n",
        "import ast\n",
        "from collections import Counter\n",
        "\n",
        "from sklearn.feature_extraction.text import TfidfVectorizer\n",
        "from sklearn.preprocessing import MultiLabelBinarizer\n",
        "from sklearn.model_selection import train_test_split\n",
        "\n",
        "from sklearn.linear_model import SGDClassifier\n",
        "from sklearn.linear_model import LogisticRegression\n",
        "from sklearn.svm import LinearSVC, SVC\n",
        "\n",
        "from sklearn.multiclass import OneVsRestClassifier, OneVsOneClassifier"
      ],
      "metadata": {
        "id": "vzyB84W8T4o4"
      },
      "execution_count": null,
      "outputs": []
    },
    {
      "cell_type": "code",
      "source": [
        "#connecting cloab notebook with google collab\n",
        "from google.colab import drive\n",
        "drive.mount('/content/drive')"
      ],
      "metadata": {
        "colab": {
          "base_uri": "https://localhost:8080/"
        },
        "id": "DJznmEcWSxPm",
        "outputId": "8d3f498e-92a7-41f9-dd14-ec1c5351d867"
      },
      "execution_count": null,
      "outputs": [
        {
          "output_type": "stream",
          "name": "stdout",
          "text": [
            "Mounted at /content/drive\n"
          ]
        }
      ]
    },
    {
      "cell_type": "markdown",
      "source": [
        "**Read the data from the csv file and convert into the dataframe**"
      ],
      "metadata": {
        "id": "tRlrWMD0TuHP"
      }
    },
    {
      "cell_type": "code",
      "source": [
        "claims_data = pd.read_csv('/content/drive/MyDrive/MyLearning_using_raspberry_pi/Virtusa/MIMIC-III-Final.csv.zip (Unzipped Files)/Extract_features/11_clean_features.csv')\n",
        "claims_data.head(2)"
      ],
      "metadata": {
        "colab": {
          "base_uri": "https://localhost:8080/",
          "height": 307
        },
        "id": "uAjsaJpYThqu",
        "outputId": "2a5384af-b2fc-4c50-fbc8-8df18a220958"
      },
      "execution_count": null,
      "outputs": [
        {
          "output_type": "execute_result",
          "data": {
            "text/html": [
              "\n",
              "  <div id=\"df-ede7d143-4607-4e82-a896-dd35c3869f7d\">\n",
              "    <div class=\"colab-df-container\">\n",
              "      <div>\n",
              "<style scoped>\n",
              "    .dataframe tbody tr th:only-of-type {\n",
              "        vertical-align: middle;\n",
              "    }\n",
              "\n",
              "    .dataframe tbody tr th {\n",
              "        vertical-align: top;\n",
              "    }\n",
              "\n",
              "    .dataframe thead th {\n",
              "        text-align: right;\n",
              "    }\n",
              "</style>\n",
              "<table border=\"1\" class=\"dataframe\">\n",
              "  <thead>\n",
              "    <tr style=\"text-align: right;\">\n",
              "      <th></th>\n",
              "      <th>TEXT</th>\n",
              "      <th>HADM_ID</th>\n",
              "      <th>ICD9_CODE</th>\n",
              "      <th>Gender</th>\n",
              "      <th>history_of_present_illness</th>\n",
              "      <th>past_medical_history</th>\n",
              "      <th>social_history</th>\n",
              "      <th>discharge_diagnosis</th>\n",
              "      <th>medications_on_admission</th>\n",
              "      <th>family_history</th>\n",
              "      <th>chief_complaint</th>\n",
              "      <th>discharge_condition</th>\n",
              "      <th>physical_exam</th>\n",
              "      <th>major_surgical_or_invasive_procedure</th>\n",
              "    </tr>\n",
              "  </thead>\n",
              "  <tbody>\n",
              "    <tr>\n",
              "      <th>0</th>\n",
              "      <td>{admission date:   \\n\\ndate of birth:         ...</td>\n",
              "      <td>100001.0</td>\n",
              "      <td>['25013', '3371', '5849', '5780', 'V5867', '25...</td>\n",
              "      <td>f</td>\n",
              "      <td>35f w poor control type 1 diabet mellitus w ne...</td>\n",
              "      <td>type 1 diabet melliti w neuropathi nephropathi...</td>\n",
              "      <td>patient live home 8 daughter boyfriend histori...</td>\n",
              "      <td>diabet keotacidosi hematemesi blood vomit hype...</td>\n",
              "      <td>NaN</td>\n",
              "      <td>parent htn t2dm grandfath mi 40s</td>\n",
              "      <td>nausea vomit</td>\n",
              "      <td>NaN</td>\n",
              "      <td>gen awak alert orient heent perrla mmm jvd nec...</td>\n",
              "      <td>none</td>\n",
              "    </tr>\n",
              "    <tr>\n",
              "      <th>1</th>\n",
              "      <td>{admission date:   \\n\\ndate of birth:         ...</td>\n",
              "      <td>100003.0</td>\n",
              "      <td>['53100', '2851', '07054', '5715', '45621', '5...</td>\n",
              "      <td>m</td>\n",
              "      <td>mr 59m w hepc cirrhosi c b grade ii esophag va...</td>\n",
              "      <td>hcv cirrhosi tx interferon x2 respon portal ga...</td>\n",
              "      <td>live alon drink alcohol usual one session per ...</td>\n",
              "      <td>peptic ulcer gi bleed</td>\n",
              "      <td>furosemid 20mg daili lisinopril 10 mg daili sp...</td>\n",
              "      <td>nc</td>\n",
              "      <td>coffe ground emesi</td>\n",
              "      <td>asymptomat</td>\n",
              "      <td>admiss vs t95 9 hr 71 bp 83 36 rr 11 96 2l nc ...</td>\n",
              "      <td>egd right ij cvl</td>\n",
              "    </tr>\n",
              "  </tbody>\n",
              "</table>\n",
              "</div>\n",
              "      <button class=\"colab-df-convert\" onclick=\"convertToInteractive('df-ede7d143-4607-4e82-a896-dd35c3869f7d')\"\n",
              "              title=\"Convert this dataframe to an interactive table.\"\n",
              "              style=\"display:none;\">\n",
              "        \n",
              "  <svg xmlns=\"http://www.w3.org/2000/svg\" height=\"24px\"viewBox=\"0 0 24 24\"\n",
              "       width=\"24px\">\n",
              "    <path d=\"M0 0h24v24H0V0z\" fill=\"none\"/>\n",
              "    <path d=\"M18.56 5.44l.94 2.06.94-2.06 2.06-.94-2.06-.94-.94-2.06-.94 2.06-2.06.94zm-11 1L8.5 8.5l.94-2.06 2.06-.94-2.06-.94L8.5 2.5l-.94 2.06-2.06.94zm10 10l.94 2.06.94-2.06 2.06-.94-2.06-.94-.94-2.06-.94 2.06-2.06.94z\"/><path d=\"M17.41 7.96l-1.37-1.37c-.4-.4-.92-.59-1.43-.59-.52 0-1.04.2-1.43.59L10.3 9.45l-7.72 7.72c-.78.78-.78 2.05 0 2.83L4 21.41c.39.39.9.59 1.41.59.51 0 1.02-.2 1.41-.59l7.78-7.78 2.81-2.81c.8-.78.8-2.07 0-2.86zM5.41 20L4 18.59l7.72-7.72 1.47 1.35L5.41 20z\"/>\n",
              "  </svg>\n",
              "      </button>\n",
              "      \n",
              "  <style>\n",
              "    .colab-df-container {\n",
              "      display:flex;\n",
              "      flex-wrap:wrap;\n",
              "      gap: 12px;\n",
              "    }\n",
              "\n",
              "    .colab-df-convert {\n",
              "      background-color: #E8F0FE;\n",
              "      border: none;\n",
              "      border-radius: 50%;\n",
              "      cursor: pointer;\n",
              "      display: none;\n",
              "      fill: #1967D2;\n",
              "      height: 32px;\n",
              "      padding: 0 0 0 0;\n",
              "      width: 32px;\n",
              "    }\n",
              "\n",
              "    .colab-df-convert:hover {\n",
              "      background-color: #E2EBFA;\n",
              "      box-shadow: 0px 1px 2px rgba(60, 64, 67, 0.3), 0px 1px 3px 1px rgba(60, 64, 67, 0.15);\n",
              "      fill: #174EA6;\n",
              "    }\n",
              "\n",
              "    [theme=dark] .colab-df-convert {\n",
              "      background-color: #3B4455;\n",
              "      fill: #D2E3FC;\n",
              "    }\n",
              "\n",
              "    [theme=dark] .colab-df-convert:hover {\n",
              "      background-color: #434B5C;\n",
              "      box-shadow: 0px 1px 3px 1px rgba(0, 0, 0, 0.15);\n",
              "      filter: drop-shadow(0px 1px 2px rgba(0, 0, 0, 0.3));\n",
              "      fill: #FFFFFF;\n",
              "    }\n",
              "  </style>\n",
              "\n",
              "      <script>\n",
              "        const buttonEl =\n",
              "          document.querySelector('#df-ede7d143-4607-4e82-a896-dd35c3869f7d button.colab-df-convert');\n",
              "        buttonEl.style.display =\n",
              "          google.colab.kernel.accessAllowed ? 'block' : 'none';\n",
              "\n",
              "        async function convertToInteractive(key) {\n",
              "          const element = document.querySelector('#df-ede7d143-4607-4e82-a896-dd35c3869f7d');\n",
              "          const dataTable =\n",
              "            await google.colab.kernel.invokeFunction('convertToInteractive',\n",
              "                                                     [key], {});\n",
              "          if (!dataTable) return;\n",
              "\n",
              "          const docLinkHtml = 'Like what you see? Visit the ' +\n",
              "            '<a target=\"_blank\" href=https://colab.research.google.com/notebooks/data_table.ipynb>data table notebook</a>'\n",
              "            + ' to learn more about interactive tables.';\n",
              "          element.innerHTML = '';\n",
              "          dataTable['output_type'] = 'display_data';\n",
              "          await google.colab.output.renderOutput(dataTable, element);\n",
              "          const docLink = document.createElement('div');\n",
              "          docLink.innerHTML = docLinkHtml;\n",
              "          element.appendChild(docLink);\n",
              "        }\n",
              "      </script>\n",
              "    </div>\n",
              "  </div>\n",
              "  "
            ],
            "text/plain": [
              "                                                TEXT  ...  major_surgical_or_invasive_procedure\n",
              "0  {admission date:   \\n\\ndate of birth:         ...  ...                                  none\n",
              "1  {admission date:   \\n\\ndate of birth:         ...  ...                      egd right ij cvl\n",
              "\n",
              "[2 rows x 14 columns]"
            ]
          },
          "metadata": {},
          "execution_count": 5
        }
      ]
    },
    {
      "cell_type": "markdown",
      "source": [
        "**Create a dataset with by combining all 11 features as text as feature and ICD9_CODE column as target**"
      ],
      "metadata": {
        "id": "EcReshIAUf6O"
      }
    },
    {
      "cell_type": "code",
      "source": [
        "claims_data = claims_data.replace({np.nan:\"\"}) \n",
        "df = pd.DataFrame()\n",
        "L = list(claims_data.columns[3:])\n",
        "df['TEXT'] = claims_data[L].agg(''.join,axis=1)\n",
        "df['ICD9_CODE'] = claims_data['ICD9_CODE'].copy()\n",
        "df.head()"
      ],
      "metadata": {
        "colab": {
          "base_uri": "https://localhost:8080/",
          "height": 202
        },
        "id": "N7FkHFyUT0kg",
        "outputId": "f47c4a7d-bf4b-49e4-d467-fe6338f8d70e"
      },
      "execution_count": null,
      "outputs": [
        {
          "output_type": "execute_result",
          "data": {
            "text/html": [
              "\n",
              "  <div id=\"df-9d798cd1-c7c2-4d2d-b648-74c73de7db35\">\n",
              "    <div class=\"colab-df-container\">\n",
              "      <div>\n",
              "<style scoped>\n",
              "    .dataframe tbody tr th:only-of-type {\n",
              "        vertical-align: middle;\n",
              "    }\n",
              "\n",
              "    .dataframe tbody tr th {\n",
              "        vertical-align: top;\n",
              "    }\n",
              "\n",
              "    .dataframe thead th {\n",
              "        text-align: right;\n",
              "    }\n",
              "</style>\n",
              "<table border=\"1\" class=\"dataframe\">\n",
              "  <thead>\n",
              "    <tr style=\"text-align: right;\">\n",
              "      <th></th>\n",
              "      <th>TEXT</th>\n",
              "      <th>ICD9_CODE</th>\n",
              "    </tr>\n",
              "  </thead>\n",
              "  <tbody>\n",
              "    <tr>\n",
              "      <th>0</th>\n",
              "      <td>f35f w poor control type 1 diabet mellitus w n...</td>\n",
              "      <td>['25013', '3371', '5849', '5780', 'V5867', '25...</td>\n",
              "    </tr>\n",
              "    <tr>\n",
              "      <th>1</th>\n",
              "      <td>mmr 59m w hepc cirrhosi c b grade ii esophag v...</td>\n",
              "      <td>['53100', '2851', '07054', '5715', '45621', '5...</td>\n",
              "    </tr>\n",
              "    <tr>\n",
              "      <th>2</th>\n",
              "      <td>f48 year old african american femal histori mu...</td>\n",
              "      <td>['49320', '51881', '486', '20300', '2761', '78...</td>\n",
              "    </tr>\n",
              "    <tr>\n",
              "      <th>3</th>\n",
              "      <td>fms 73 year old femal histori multipl abdomin ...</td>\n",
              "      <td>['56081', '5570', '9973', '486', '4019']</td>\n",
              "    </tr>\n",
              "    <tr>\n",
              "      <th>4</th>\n",
              "      <td>m60yo man known coronari disea ami lcx well la...</td>\n",
              "      <td>['41401', '99604', '4142', '25000', '27800', '...</td>\n",
              "    </tr>\n",
              "  </tbody>\n",
              "</table>\n",
              "</div>\n",
              "      <button class=\"colab-df-convert\" onclick=\"convertToInteractive('df-9d798cd1-c7c2-4d2d-b648-74c73de7db35')\"\n",
              "              title=\"Convert this dataframe to an interactive table.\"\n",
              "              style=\"display:none;\">\n",
              "        \n",
              "  <svg xmlns=\"http://www.w3.org/2000/svg\" height=\"24px\"viewBox=\"0 0 24 24\"\n",
              "       width=\"24px\">\n",
              "    <path d=\"M0 0h24v24H0V0z\" fill=\"none\"/>\n",
              "    <path d=\"M18.56 5.44l.94 2.06.94-2.06 2.06-.94-2.06-.94-.94-2.06-.94 2.06-2.06.94zm-11 1L8.5 8.5l.94-2.06 2.06-.94-2.06-.94L8.5 2.5l-.94 2.06-2.06.94zm10 10l.94 2.06.94-2.06 2.06-.94-2.06-.94-.94-2.06-.94 2.06-2.06.94z\"/><path d=\"M17.41 7.96l-1.37-1.37c-.4-.4-.92-.59-1.43-.59-.52 0-1.04.2-1.43.59L10.3 9.45l-7.72 7.72c-.78.78-.78 2.05 0 2.83L4 21.41c.39.39.9.59 1.41.59.51 0 1.02-.2 1.41-.59l7.78-7.78 2.81-2.81c.8-.78.8-2.07 0-2.86zM5.41 20L4 18.59l7.72-7.72 1.47 1.35L5.41 20z\"/>\n",
              "  </svg>\n",
              "      </button>\n",
              "      \n",
              "  <style>\n",
              "    .colab-df-container {\n",
              "      display:flex;\n",
              "      flex-wrap:wrap;\n",
              "      gap: 12px;\n",
              "    }\n",
              "\n",
              "    .colab-df-convert {\n",
              "      background-color: #E8F0FE;\n",
              "      border: none;\n",
              "      border-radius: 50%;\n",
              "      cursor: pointer;\n",
              "      display: none;\n",
              "      fill: #1967D2;\n",
              "      height: 32px;\n",
              "      padding: 0 0 0 0;\n",
              "      width: 32px;\n",
              "    }\n",
              "\n",
              "    .colab-df-convert:hover {\n",
              "      background-color: #E2EBFA;\n",
              "      box-shadow: 0px 1px 2px rgba(60, 64, 67, 0.3), 0px 1px 3px 1px rgba(60, 64, 67, 0.15);\n",
              "      fill: #174EA6;\n",
              "    }\n",
              "\n",
              "    [theme=dark] .colab-df-convert {\n",
              "      background-color: #3B4455;\n",
              "      fill: #D2E3FC;\n",
              "    }\n",
              "\n",
              "    [theme=dark] .colab-df-convert:hover {\n",
              "      background-color: #434B5C;\n",
              "      box-shadow: 0px 1px 3px 1px rgba(0, 0, 0, 0.15);\n",
              "      filter: drop-shadow(0px 1px 2px rgba(0, 0, 0, 0.3));\n",
              "      fill: #FFFFFF;\n",
              "    }\n",
              "  </style>\n",
              "\n",
              "      <script>\n",
              "        const buttonEl =\n",
              "          document.querySelector('#df-9d798cd1-c7c2-4d2d-b648-74c73de7db35 button.colab-df-convert');\n",
              "        buttonEl.style.display =\n",
              "          google.colab.kernel.accessAllowed ? 'block' : 'none';\n",
              "\n",
              "        async function convertToInteractive(key) {\n",
              "          const element = document.querySelector('#df-9d798cd1-c7c2-4d2d-b648-74c73de7db35');\n",
              "          const dataTable =\n",
              "            await google.colab.kernel.invokeFunction('convertToInteractive',\n",
              "                                                     [key], {});\n",
              "          if (!dataTable) return;\n",
              "\n",
              "          const docLinkHtml = 'Like what you see? Visit the ' +\n",
              "            '<a target=\"_blank\" href=https://colab.research.google.com/notebooks/data_table.ipynb>data table notebook</a>'\n",
              "            + ' to learn more about interactive tables.';\n",
              "          element.innerHTML = '';\n",
              "          dataTable['output_type'] = 'display_data';\n",
              "          await google.colab.output.renderOutput(dataTable, element);\n",
              "          const docLink = document.createElement('div');\n",
              "          docLink.innerHTML = docLinkHtml;\n",
              "          element.appendChild(docLink);\n",
              "        }\n",
              "      </script>\n",
              "    </div>\n",
              "  </div>\n",
              "  "
            ],
            "text/plain": [
              "                                                TEXT                                          ICD9_CODE\n",
              "0  f35f w poor control type 1 diabet mellitus w n...  ['25013', '3371', '5849', '5780', 'V5867', '25...\n",
              "1  mmr 59m w hepc cirrhosi c b grade ii esophag v...  ['53100', '2851', '07054', '5715', '45621', '5...\n",
              "2  f48 year old african american femal histori mu...  ['49320', '51881', '486', '20300', '2761', '78...\n",
              "3  fms 73 year old femal histori multipl abdomin ...           ['56081', '5570', '9973', '486', '4019']\n",
              "4  m60yo man known coronari disea ami lcx well la...  ['41401', '99604', '4142', '25000', '27800', '..."
            ]
          },
          "metadata": {},
          "execution_count": 6
        }
      ]
    },
    {
      "cell_type": "markdown",
      "source": [
        "**Convert y features as seperate columns using MultilabelBinarizer**"
      ],
      "metadata": {
        "id": "TGSk6lXoX6Dn"
      }
    },
    {
      "cell_type": "code",
      "source": [
        "df[\"ICD9_CODE\"] = df[\"ICD9_CODE\"].apply(lambda x: ast.literal_eval(x))\n",
        "y = df['ICD9_CODE']\n",
        "multilabel = MultiLabelBinarizer()\n",
        "y = multilabel.fit_transform(df['ICD9_CODE'])\n",
        "pd.DataFrame(y,columns = multilabel.classes_).head(2)"
      ],
      "metadata": {
        "colab": {
          "base_uri": "https://localhost:8080/",
          "height": 202
        },
        "id": "ZPrG9MqOWaf4",
        "outputId": "c9ba0df6-fe63-4c6b-87d0-0550be63e864"
      },
      "execution_count": null,
      "outputs": [
        {
          "output_type": "execute_result",
          "data": {
            "text/html": [
              "\n",
              "  <div id=\"df-27b772b7-4e41-422b-a15a-56d7d611c923\">\n",
              "    <div class=\"colab-df-container\">\n",
              "      <div>\n",
              "<style scoped>\n",
              "    .dataframe tbody tr th:only-of-type {\n",
              "        vertical-align: middle;\n",
              "    }\n",
              "\n",
              "    .dataframe tbody tr th {\n",
              "        vertical-align: top;\n",
              "    }\n",
              "\n",
              "    .dataframe thead th {\n",
              "        text-align: right;\n",
              "    }\n",
              "</style>\n",
              "<table border=\"1\" class=\"dataframe\">\n",
              "  <thead>\n",
              "    <tr style=\"text-align: right;\">\n",
              "      <th></th>\n",
              "      <th>0030</th>\n",
              "      <th>0031</th>\n",
              "      <th>0038</th>\n",
              "      <th>0039</th>\n",
              "      <th>0041</th>\n",
              "      <th>0048</th>\n",
              "      <th>0049</th>\n",
              "      <th>0051</th>\n",
              "      <th>00581</th>\n",
              "      <th>0059</th>\n",
              "      <th>0071</th>\n",
              "      <th>0074</th>\n",
              "      <th>00804</th>\n",
              "      <th>00841</th>\n",
              "      <th>00843</th>\n",
              "      <th>00845</th>\n",
              "      <th>00847</th>\n",
              "      <th>0085</th>\n",
              "      <th>00861</th>\n",
              "      <th>00862</th>\n",
              "      <th>00863</th>\n",
              "      <th>00869</th>\n",
              "      <th>0088</th>\n",
              "      <th>0090</th>\n",
              "      <th>0091</th>\n",
              "      <th>0092</th>\n",
              "      <th>0093</th>\n",
              "      <th>01085</th>\n",
              "      <th>01123</th>\n",
              "      <th>01136</th>\n",
              "      <th>01164</th>\n",
              "      <th>01186</th>\n",
              "      <th>01190</th>\n",
              "      <th>01193</th>\n",
              "      <th>01194</th>\n",
              "      <th>01205</th>\n",
              "      <th>01215</th>\n",
              "      <th>01300</th>\n",
              "      <th>01304</th>\n",
              "      <th>01325</th>\n",
              "      <th>...</th>\n",
              "      <th>V8409</th>\n",
              "      <th>V8489</th>\n",
              "      <th>V850</th>\n",
              "      <th>V851</th>\n",
              "      <th>V8521</th>\n",
              "      <th>V8522</th>\n",
              "      <th>V8523</th>\n",
              "      <th>V8524</th>\n",
              "      <th>V8525</th>\n",
              "      <th>V8530</th>\n",
              "      <th>V8531</th>\n",
              "      <th>V8532</th>\n",
              "      <th>V8533</th>\n",
              "      <th>V8534</th>\n",
              "      <th>V8535</th>\n",
              "      <th>V8536</th>\n",
              "      <th>V8537</th>\n",
              "      <th>V8538</th>\n",
              "      <th>V8539</th>\n",
              "      <th>V854</th>\n",
              "      <th>V8541</th>\n",
              "      <th>V8542</th>\n",
              "      <th>V8543</th>\n",
              "      <th>V8544</th>\n",
              "      <th>V8545</th>\n",
              "      <th>V860</th>\n",
              "      <th>V861</th>\n",
              "      <th>V8709</th>\n",
              "      <th>V872</th>\n",
              "      <th>V8741</th>\n",
              "      <th>V8745</th>\n",
              "      <th>V8801</th>\n",
              "      <th>V8811</th>\n",
              "      <th>V8812</th>\n",
              "      <th>V8821</th>\n",
              "      <th>V9010</th>\n",
              "      <th>V9039</th>\n",
              "      <th>V9081</th>\n",
              "      <th>V9089</th>\n",
              "      <th>V9103</th>\n",
              "    </tr>\n",
              "  </thead>\n",
              "  <tbody>\n",
              "    <tr>\n",
              "      <th>0</th>\n",
              "      <td>0</td>\n",
              "      <td>0</td>\n",
              "      <td>0</td>\n",
              "      <td>0</td>\n",
              "      <td>0</td>\n",
              "      <td>0</td>\n",
              "      <td>0</td>\n",
              "      <td>0</td>\n",
              "      <td>0</td>\n",
              "      <td>0</td>\n",
              "      <td>0</td>\n",
              "      <td>0</td>\n",
              "      <td>0</td>\n",
              "      <td>0</td>\n",
              "      <td>0</td>\n",
              "      <td>0</td>\n",
              "      <td>0</td>\n",
              "      <td>0</td>\n",
              "      <td>0</td>\n",
              "      <td>0</td>\n",
              "      <td>0</td>\n",
              "      <td>0</td>\n",
              "      <td>0</td>\n",
              "      <td>0</td>\n",
              "      <td>0</td>\n",
              "      <td>0</td>\n",
              "      <td>0</td>\n",
              "      <td>0</td>\n",
              "      <td>0</td>\n",
              "      <td>0</td>\n",
              "      <td>0</td>\n",
              "      <td>0</td>\n",
              "      <td>0</td>\n",
              "      <td>0</td>\n",
              "      <td>0</td>\n",
              "      <td>0</td>\n",
              "      <td>0</td>\n",
              "      <td>0</td>\n",
              "      <td>0</td>\n",
              "      <td>0</td>\n",
              "      <td>...</td>\n",
              "      <td>0</td>\n",
              "      <td>0</td>\n",
              "      <td>0</td>\n",
              "      <td>0</td>\n",
              "      <td>0</td>\n",
              "      <td>0</td>\n",
              "      <td>0</td>\n",
              "      <td>0</td>\n",
              "      <td>0</td>\n",
              "      <td>0</td>\n",
              "      <td>0</td>\n",
              "      <td>0</td>\n",
              "      <td>0</td>\n",
              "      <td>0</td>\n",
              "      <td>0</td>\n",
              "      <td>0</td>\n",
              "      <td>0</td>\n",
              "      <td>0</td>\n",
              "      <td>0</td>\n",
              "      <td>0</td>\n",
              "      <td>0</td>\n",
              "      <td>0</td>\n",
              "      <td>0</td>\n",
              "      <td>0</td>\n",
              "      <td>0</td>\n",
              "      <td>0</td>\n",
              "      <td>0</td>\n",
              "      <td>0</td>\n",
              "      <td>0</td>\n",
              "      <td>0</td>\n",
              "      <td>0</td>\n",
              "      <td>0</td>\n",
              "      <td>0</td>\n",
              "      <td>0</td>\n",
              "      <td>0</td>\n",
              "      <td>0</td>\n",
              "      <td>0</td>\n",
              "      <td>0</td>\n",
              "      <td>0</td>\n",
              "      <td>0</td>\n",
              "    </tr>\n",
              "    <tr>\n",
              "      <th>1</th>\n",
              "      <td>0</td>\n",
              "      <td>0</td>\n",
              "      <td>0</td>\n",
              "      <td>0</td>\n",
              "      <td>0</td>\n",
              "      <td>0</td>\n",
              "      <td>0</td>\n",
              "      <td>0</td>\n",
              "      <td>0</td>\n",
              "      <td>0</td>\n",
              "      <td>0</td>\n",
              "      <td>0</td>\n",
              "      <td>0</td>\n",
              "      <td>0</td>\n",
              "      <td>0</td>\n",
              "      <td>0</td>\n",
              "      <td>0</td>\n",
              "      <td>0</td>\n",
              "      <td>0</td>\n",
              "      <td>0</td>\n",
              "      <td>0</td>\n",
              "      <td>0</td>\n",
              "      <td>0</td>\n",
              "      <td>0</td>\n",
              "      <td>0</td>\n",
              "      <td>0</td>\n",
              "      <td>0</td>\n",
              "      <td>0</td>\n",
              "      <td>0</td>\n",
              "      <td>0</td>\n",
              "      <td>0</td>\n",
              "      <td>0</td>\n",
              "      <td>0</td>\n",
              "      <td>0</td>\n",
              "      <td>0</td>\n",
              "      <td>0</td>\n",
              "      <td>0</td>\n",
              "      <td>0</td>\n",
              "      <td>0</td>\n",
              "      <td>0</td>\n",
              "      <td>...</td>\n",
              "      <td>0</td>\n",
              "      <td>0</td>\n",
              "      <td>0</td>\n",
              "      <td>0</td>\n",
              "      <td>0</td>\n",
              "      <td>0</td>\n",
              "      <td>0</td>\n",
              "      <td>0</td>\n",
              "      <td>0</td>\n",
              "      <td>0</td>\n",
              "      <td>0</td>\n",
              "      <td>0</td>\n",
              "      <td>0</td>\n",
              "      <td>0</td>\n",
              "      <td>0</td>\n",
              "      <td>0</td>\n",
              "      <td>0</td>\n",
              "      <td>0</td>\n",
              "      <td>0</td>\n",
              "      <td>0</td>\n",
              "      <td>0</td>\n",
              "      <td>0</td>\n",
              "      <td>0</td>\n",
              "      <td>0</td>\n",
              "      <td>0</td>\n",
              "      <td>0</td>\n",
              "      <td>0</td>\n",
              "      <td>0</td>\n",
              "      <td>0</td>\n",
              "      <td>0</td>\n",
              "      <td>0</td>\n",
              "      <td>0</td>\n",
              "      <td>0</td>\n",
              "      <td>0</td>\n",
              "      <td>0</td>\n",
              "      <td>0</td>\n",
              "      <td>0</td>\n",
              "      <td>0</td>\n",
              "      <td>0</td>\n",
              "      <td>0</td>\n",
              "    </tr>\n",
              "  </tbody>\n",
              "</table>\n",
              "<p>2 rows × 6918 columns</p>\n",
              "</div>\n",
              "      <button class=\"colab-df-convert\" onclick=\"convertToInteractive('df-27b772b7-4e41-422b-a15a-56d7d611c923')\"\n",
              "              title=\"Convert this dataframe to an interactive table.\"\n",
              "              style=\"display:none;\">\n",
              "        \n",
              "  <svg xmlns=\"http://www.w3.org/2000/svg\" height=\"24px\"viewBox=\"0 0 24 24\"\n",
              "       width=\"24px\">\n",
              "    <path d=\"M0 0h24v24H0V0z\" fill=\"none\"/>\n",
              "    <path d=\"M18.56 5.44l.94 2.06.94-2.06 2.06-.94-2.06-.94-.94-2.06-.94 2.06-2.06.94zm-11 1L8.5 8.5l.94-2.06 2.06-.94-2.06-.94L8.5 2.5l-.94 2.06-2.06.94zm10 10l.94 2.06.94-2.06 2.06-.94-2.06-.94-.94-2.06-.94 2.06-2.06.94z\"/><path d=\"M17.41 7.96l-1.37-1.37c-.4-.4-.92-.59-1.43-.59-.52 0-1.04.2-1.43.59L10.3 9.45l-7.72 7.72c-.78.78-.78 2.05 0 2.83L4 21.41c.39.39.9.59 1.41.59.51 0 1.02-.2 1.41-.59l7.78-7.78 2.81-2.81c.8-.78.8-2.07 0-2.86zM5.41 20L4 18.59l7.72-7.72 1.47 1.35L5.41 20z\"/>\n",
              "  </svg>\n",
              "      </button>\n",
              "      \n",
              "  <style>\n",
              "    .colab-df-container {\n",
              "      display:flex;\n",
              "      flex-wrap:wrap;\n",
              "      gap: 12px;\n",
              "    }\n",
              "\n",
              "    .colab-df-convert {\n",
              "      background-color: #E8F0FE;\n",
              "      border: none;\n",
              "      border-radius: 50%;\n",
              "      cursor: pointer;\n",
              "      display: none;\n",
              "      fill: #1967D2;\n",
              "      height: 32px;\n",
              "      padding: 0 0 0 0;\n",
              "      width: 32px;\n",
              "    }\n",
              "\n",
              "    .colab-df-convert:hover {\n",
              "      background-color: #E2EBFA;\n",
              "      box-shadow: 0px 1px 2px rgba(60, 64, 67, 0.3), 0px 1px 3px 1px rgba(60, 64, 67, 0.15);\n",
              "      fill: #174EA6;\n",
              "    }\n",
              "\n",
              "    [theme=dark] .colab-df-convert {\n",
              "      background-color: #3B4455;\n",
              "      fill: #D2E3FC;\n",
              "    }\n",
              "\n",
              "    [theme=dark] .colab-df-convert:hover {\n",
              "      background-color: #434B5C;\n",
              "      box-shadow: 0px 1px 3px 1px rgba(0, 0, 0, 0.15);\n",
              "      filter: drop-shadow(0px 1px 2px rgba(0, 0, 0, 0.3));\n",
              "      fill: #FFFFFF;\n",
              "    }\n",
              "  </style>\n",
              "\n",
              "      <script>\n",
              "        const buttonEl =\n",
              "          document.querySelector('#df-27b772b7-4e41-422b-a15a-56d7d611c923 button.colab-df-convert');\n",
              "        buttonEl.style.display =\n",
              "          google.colab.kernel.accessAllowed ? 'block' : 'none';\n",
              "\n",
              "        async function convertToInteractive(key) {\n",
              "          const element = document.querySelector('#df-27b772b7-4e41-422b-a15a-56d7d611c923');\n",
              "          const dataTable =\n",
              "            await google.colab.kernel.invokeFunction('convertToInteractive',\n",
              "                                                     [key], {});\n",
              "          if (!dataTable) return;\n",
              "\n",
              "          const docLinkHtml = 'Like what you see? Visit the ' +\n",
              "            '<a target=\"_blank\" href=https://colab.research.google.com/notebooks/data_table.ipynb>data table notebook</a>'\n",
              "            + ' to learn more about interactive tables.';\n",
              "          element.innerHTML = '';\n",
              "          dataTable['output_type'] = 'display_data';\n",
              "          await google.colab.output.renderOutput(dataTable, element);\n",
              "          const docLink = document.createElement('div');\n",
              "          docLink.innerHTML = docLinkHtml;\n",
              "          element.appendChild(docLink);\n",
              "        }\n",
              "      </script>\n",
              "    </div>\n",
              "  </div>\n",
              "  "
            ],
            "text/plain": [
              "   0030  0031  0038  0039  0041  0048  ...  V8821  V9010  V9039  V9081  V9089  V9103\n",
              "0     0     0     0     0     0     0  ...      0      0      0      0      0      0\n",
              "1     0     0     0     0     0     0  ...      0      0      0      0      0      0\n",
              "\n",
              "[2 rows x 6918 columns]"
            ]
          },
          "metadata": {},
          "execution_count": 7
        }
      ]
    },
    {
      "cell_type": "markdown",
      "source": [
        " **Convert x features as frequency of words using tfidf**"
      ],
      "metadata": {
        "id": "C3y-BU5aYm4n"
      }
    },
    {
      "cell_type": "code",
      "source": [
        ""
      ],
      "metadata": {
        "id": "fZl7y4NGJGX9"
      },
      "execution_count": null,
      "outputs": []
    },
    {
      "cell_type": "code",
      "source": [
        "tfidf = TfidfVectorizer(analyzer='word', max_features=20000)\n",
        "X = tfidf.fit_transform(df['TEXT'])\n",
        "X"
      ],
      "metadata": {
        "id": "dlSzewOlYk2J",
        "colab": {
          "base_uri": "https://localhost:8080/"
        },
        "outputId": "28d5d1f2-6dfd-4cd3-87da-f6fb3f7805ae"
      },
      "execution_count": null,
      "outputs": [
        {
          "output_type": "execute_result",
          "data": {
            "text/plain": [
              "<52722x20000 sparse matrix of type '<class 'numpy.float64'>'\n",
              "\twith 25093021 stored elements in Compressed Sparse Row format>"
            ]
          },
          "metadata": {},
          "execution_count": 21
        }
      ]
    },
    {
      "cell_type": "code",
      "source": [
        "#save the tfidf vector for feature reference\n",
        "#tf_transformer = tfidf.fit(df['TEXT'])\n",
        "# Dump the file\n",
        "#pickle.dump(tf_transformer, open(\"/content/drive/MyDrive/MyLearning_using_raspberry_pi/Virtusa/MIMIC-III-Final.csv.zip (Unzipped Files)/Extract_features/tfidf1.pkl\", \"wb\"))\n"
      ],
      "metadata": {
        "id": "-KHqGCMIZ4U0"
      },
      "execution_count": null,
      "outputs": []
    },
    {
      "cell_type": "markdown",
      "source": [
        "**Split the data set into the train and test data sets for model building**"
      ],
      "metadata": {
        "id": "6--ownzdaQuw"
      }
    },
    {
      "cell_type": "code",
      "source": [
        "X_train, X_test, y_train, y_test = train_test_split(X, y, test_size = 0.2, random_state = 0)"
      ],
      "metadata": {
        "id": "MtQsrgcTaQYV"
      },
      "execution_count": null,
      "outputs": []
    },
    {
      "cell_type": "markdown",
      "source": [
        "**Build Model**"
      ],
      "metadata": {
        "id": "S3zxQeT8ak8N"
      }
    },
    {
      "cell_type": "code",
      "source": [
        "sgd = SGDClassifier()\n",
        "lr = LogisticRegression(solver = 'lbfgs')\n",
        "svc = LinearSVC()\n",
        "s_vc = SVC()\n",
        "from sklearn.naive_bayes import GaussianNB\n",
        "gnb = GaussianNB()\n",
        "s_vc.probability= True\n",
        "clf = OneVsRestClassifier(gnb)\n",
        "clf.fit(X_train.todense(),y_train)\n",
        "y_pred = clf.predict(X_test)"
      ],
      "metadata": {
        "colab": {
          "base_uri": "https://localhost:8080/"
        },
        "id": "SZ_AdzIxakC7",
        "outputId": "66cd6d01-7910-4b90-9ff0-257e427542bb"
      },
      "execution_count": null,
      "outputs": [
        {
          "output_type": "stream",
          "name": "stderr",
          "text": [
            "/usr/local/lib/python3.7/dist-packages/sklearn/utils/validation.py:590: FutureWarning:\n",
            "\n",
            "np.matrix usage is deprecated in 1.0 and will raise a TypeError in 1.2. Please convert to a numpy array with np.asarray. For more information see: https://numpy.org/doc/stable/reference/generated/numpy.matrix.html\n",
            "\n"
          ]
        }
      ]
    },
    {
      "cell_type": "code",
      "source": [
        "#Load the model\n",
        "#my_model = pickle.load(open('/content/drive/MyDrive/MyLearning_using_raspberry_pi/Virtusa/MIMIC-III-Final.csv.zip (Unzipped Files)/Extract_features/log_11_Basic_Model.sav','rb'))\n",
        "y_pred = clf.predict(X_test)\n",
        "print(jaccard_score(y_test,y_pred,average='samples'))"
      ],
      "metadata": {
        "id": "rxV4GGJmYh8Q",
        "colab": {
          "base_uri": "https://localhost:8080/"
        },
        "outputId": "69e01fad-97a8-4889-a619-54d0905a6c34"
      },
      "execution_count": null,
      "outputs": [
        {
          "output_type": "stream",
          "name": "stdout",
          "text": [
            "0.1714784855438429\n"
          ]
        }
      ]
    },
    {
      "cell_type": "markdown",
      "source": [
        "Jaccard similarity coefficient score. The Jaccard index [1], or Jaccard similarity coefficient, defined as the size of the intersection divided by the size of the union of two label sets, is used to compare set of predicted labels for a sample to the corresponding set of labels in y_true.\n",
        "\n",
        "A -> y_actual\n",
        "B -> y_predicted\n",
        "\n",
        "![0_r_fwLPv3Z8xCAEiA.png](data:image/png;base64,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)"
      ],
      "metadata": {
        "id": "dJDvy-nLe6Me"
      }
    },
    {
      "cell_type": "code",
      "source": [
        ""
      ],
      "metadata": {
        "id": "rUeBwKn_b6m2"
      },
      "execution_count": null,
      "outputs": []
    },
    {
      "cell_type": "code",
      "source": [
        ""
      ],
      "metadata": {
        "id": "LORQrrarb6h4"
      },
      "execution_count": null,
      "outputs": []
    },
    {
      "cell_type": "code",
      "source": [
        ""
      ],
      "metadata": {
        "id": "aJ4Nl1UTb6Vg"
      },
      "execution_count": null,
      "outputs": []
    },
    {
      "cell_type": "code",
      "source": [
        ""
      ],
      "metadata": {
        "id": "d2298tH-b6Hm"
      },
      "execution_count": null,
      "outputs": []
    },
    {
      "cell_type": "code",
      "source": [
        ""
      ],
      "metadata": {
        "id": "cf2uiYB7Xebs"
      },
      "execution_count": null,
      "outputs": []
    }
  ]
}