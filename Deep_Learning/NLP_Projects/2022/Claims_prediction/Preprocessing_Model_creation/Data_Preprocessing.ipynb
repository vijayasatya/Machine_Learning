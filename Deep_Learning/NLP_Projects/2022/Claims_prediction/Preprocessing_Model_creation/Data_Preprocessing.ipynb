{
  "nbformat": 4,
  "nbformat_minor": 0,
  "metadata": {
    "colab": {
      "name": "Data_Preprocessing.ipynb",
      "provenance": [],
      "collapsed_sections": []
    },
    "kernelspec": {
      "name": "python3",
      "display_name": "Python 3"
    },
    "language_info": {
      "name": "python"
    }
  },
  "cells": [
    {
      "cell_type": "markdown",
      "source": [
        "# Installing texthero package.\n",
        "**By using this package we can clean the data set required for model building by removing stop words punctations etc**"
      ],
      "metadata": {
        "id": "glmTaCunBbDt"
      }
    },
    {
      "cell_type": "code",
      "execution_count": null,
      "metadata": {
        "id": "gnfWh_VvBG3e",
        "colab": {
          "base_uri": "https://localhost:8080/"
        },
        "outputId": "592491ec-a79c-4408-baee-214ad62859d8"
      },
      "outputs": [
        {
          "output_type": "stream",
          "name": "stdout",
          "text": [
            "Collecting texthero\n",
            "  Downloading texthero-1.1.0-py3-none-any.whl (24 kB)\n",
            "Collecting unidecode>=1.1.1\n",
            "  Downloading Unidecode-1.3.2-py3-none-any.whl (235 kB)\n",
            "\u001b[K     |████████████████████████████████| 235 kB 7.1 MB/s \n",
            "\u001b[?25hCollecting nltk>=3.3\n",
            "  Downloading nltk-3.6.7-py3-none-any.whl (1.5 MB)\n",
            "\u001b[K     |████████████████████████████████| 1.5 MB 42.7 MB/s \n",
            "\u001b[?25hRequirement already satisfied: matplotlib>=3.1.0 in /usr/local/lib/python3.7/dist-packages (from texthero) (3.2.2)\n",
            "Requirement already satisfied: gensim<4.0,>=3.6.0 in /usr/local/lib/python3.7/dist-packages (from texthero) (3.6.0)\n",
            "Requirement already satisfied: plotly>=4.2.0 in /usr/local/lib/python3.7/dist-packages (from texthero) (4.4.1)\n",
            "Requirement already satisfied: tqdm>=4.3 in /usr/local/lib/python3.7/dist-packages (from texthero) (4.62.3)\n",
            "Requirement already satisfied: wordcloud>=1.5.0 in /usr/local/lib/python3.7/dist-packages (from texthero) (1.5.0)\n",
            "Requirement already satisfied: scikit-learn>=0.22 in /usr/local/lib/python3.7/dist-packages (from texthero) (1.0.1)\n",
            "Requirement already satisfied: numpy>=1.17 in /usr/local/lib/python3.7/dist-packages (from texthero) (1.19.5)\n",
            "Requirement already satisfied: pandas>=1.0.2 in /usr/local/lib/python3.7/dist-packages (from texthero) (1.1.5)\n",
            "Requirement already satisfied: spacy<3.0.0 in /usr/local/lib/python3.7/dist-packages (from texthero) (2.2.4)\n",
            "Requirement already satisfied: scipy>=0.18.1 in /usr/local/lib/python3.7/dist-packages (from gensim<4.0,>=3.6.0->texthero) (1.4.1)\n",
            "Requirement already satisfied: six>=1.5.0 in /usr/local/lib/python3.7/dist-packages (from gensim<4.0,>=3.6.0->texthero) (1.15.0)\n",
            "Requirement already satisfied: smart-open>=1.2.1 in /usr/local/lib/python3.7/dist-packages (from gensim<4.0,>=3.6.0->texthero) (5.2.1)\n",
            "Requirement already satisfied: python-dateutil>=2.1 in /usr/local/lib/python3.7/dist-packages (from matplotlib>=3.1.0->texthero) (2.8.2)\n",
            "Requirement already satisfied: cycler>=0.10 in /usr/local/lib/python3.7/dist-packages (from matplotlib>=3.1.0->texthero) (0.11.0)\n",
            "Requirement already satisfied: kiwisolver>=1.0.1 in /usr/local/lib/python3.7/dist-packages (from matplotlib>=3.1.0->texthero) (1.3.2)\n",
            "Requirement already satisfied: pyparsing!=2.0.4,!=2.1.2,!=2.1.6,>=2.0.1 in /usr/local/lib/python3.7/dist-packages (from matplotlib>=3.1.0->texthero) (3.0.6)\n",
            "Requirement already satisfied: click in /usr/local/lib/python3.7/dist-packages (from nltk>=3.3->texthero) (7.1.2)\n",
            "Requirement already satisfied: joblib in /usr/local/lib/python3.7/dist-packages (from nltk>=3.3->texthero) (1.1.0)\n",
            "Collecting regex>=2021.8.3\n",
            "  Downloading regex-2021.11.10-cp37-cp37m-manylinux_2_17_x86_64.manylinux2014_x86_64.whl (749 kB)\n",
            "\u001b[K     |████████████████████████████████| 749 kB 66.2 MB/s \n",
            "\u001b[?25hRequirement already satisfied: pytz>=2017.2 in /usr/local/lib/python3.7/dist-packages (from pandas>=1.0.2->texthero) (2018.9)\n",
            "Requirement already satisfied: retrying>=1.3.3 in /usr/local/lib/python3.7/dist-packages (from plotly>=4.2.0->texthero) (1.3.3)\n",
            "Requirement already satisfied: threadpoolctl>=2.0.0 in /usr/local/lib/python3.7/dist-packages (from scikit-learn>=0.22->texthero) (3.0.0)\n",
            "Requirement already satisfied: catalogue<1.1.0,>=0.0.7 in /usr/local/lib/python3.7/dist-packages (from spacy<3.0.0->texthero) (1.0.0)\n",
            "Requirement already satisfied: wasabi<1.1.0,>=0.4.0 in /usr/local/lib/python3.7/dist-packages (from spacy<3.0.0->texthero) (0.8.2)\n",
            "Requirement already satisfied: cymem<2.1.0,>=2.0.2 in /usr/local/lib/python3.7/dist-packages (from spacy<3.0.0->texthero) (2.0.6)\n",
            "Requirement already satisfied: requests<3.0.0,>=2.13.0 in /usr/local/lib/python3.7/dist-packages (from spacy<3.0.0->texthero) (2.23.0)\n",
            "Requirement already satisfied: preshed<3.1.0,>=3.0.2 in /usr/local/lib/python3.7/dist-packages (from spacy<3.0.0->texthero) (3.0.6)\n",
            "Requirement already satisfied: thinc==7.4.0 in /usr/local/lib/python3.7/dist-packages (from spacy<3.0.0->texthero) (7.4.0)\n",
            "Requirement already satisfied: plac<1.2.0,>=0.9.6 in /usr/local/lib/python3.7/dist-packages (from spacy<3.0.0->texthero) (1.1.3)\n",
            "Requirement already satisfied: setuptools in /usr/local/lib/python3.7/dist-packages (from spacy<3.0.0->texthero) (57.4.0)\n",
            "Requirement already satisfied: srsly<1.1.0,>=1.0.2 in /usr/local/lib/python3.7/dist-packages (from spacy<3.0.0->texthero) (1.0.5)\n",
            "Requirement already satisfied: blis<0.5.0,>=0.4.0 in /usr/local/lib/python3.7/dist-packages (from spacy<3.0.0->texthero) (0.4.1)\n",
            "Requirement already satisfied: murmurhash<1.1.0,>=0.28.0 in /usr/local/lib/python3.7/dist-packages (from spacy<3.0.0->texthero) (1.0.6)\n",
            "Requirement already satisfied: importlib-metadata>=0.20 in /usr/local/lib/python3.7/dist-packages (from catalogue<1.1.0,>=0.0.7->spacy<3.0.0->texthero) (4.8.2)\n",
            "Requirement already satisfied: zipp>=0.5 in /usr/local/lib/python3.7/dist-packages (from importlib-metadata>=0.20->catalogue<1.1.0,>=0.0.7->spacy<3.0.0->texthero) (3.6.0)\n",
            "Requirement already satisfied: typing-extensions>=3.6.4 in /usr/local/lib/python3.7/dist-packages (from importlib-metadata>=0.20->catalogue<1.1.0,>=0.0.7->spacy<3.0.0->texthero) (3.10.0.2)\n",
            "Requirement already satisfied: chardet<4,>=3.0.2 in /usr/local/lib/python3.7/dist-packages (from requests<3.0.0,>=2.13.0->spacy<3.0.0->texthero) (3.0.4)\n",
            "Requirement already satisfied: idna<3,>=2.5 in /usr/local/lib/python3.7/dist-packages (from requests<3.0.0,>=2.13.0->spacy<3.0.0->texthero) (2.10)\n",
            "Requirement already satisfied: urllib3!=1.25.0,!=1.25.1,<1.26,>=1.21.1 in /usr/local/lib/python3.7/dist-packages (from requests<3.0.0,>=2.13.0->spacy<3.0.0->texthero) (1.24.3)\n",
            "Requirement already satisfied: certifi>=2017.4.17 in /usr/local/lib/python3.7/dist-packages (from requests<3.0.0,>=2.13.0->spacy<3.0.0->texthero) (2021.10.8)\n",
            "Requirement already satisfied: pillow in /usr/local/lib/python3.7/dist-packages (from wordcloud>=1.5.0->texthero) (7.1.2)\n",
            "Installing collected packages: regex, unidecode, nltk, texthero\n",
            "  Attempting uninstall: regex\n",
            "    Found existing installation: regex 2019.12.20\n",
            "    Uninstalling regex-2019.12.20:\n",
            "      Successfully uninstalled regex-2019.12.20\n",
            "  Attempting uninstall: nltk\n",
            "    Found existing installation: nltk 3.2.5\n",
            "    Uninstalling nltk-3.2.5:\n",
            "      Successfully uninstalled nltk-3.2.5\n",
            "Successfully installed nltk-3.6.7 regex-2021.11.10 texthero-1.1.0 unidecode-1.3.2\n"
          ]
        }
      ],
      "source": [
        "!pip install texthero"
      ]
    },
    {
      "cell_type": "markdown",
      "source": [
        "**Required python packages for preprocessing**"
      ],
      "metadata": {
        "id": "LJd0JywPB_ta"
      }
    },
    {
      "cell_type": "code",
      "source": [
        "import pandas as pd\n",
        "import texthero as hero\n",
        "import numpy as np\n",
        "import seaborn as sns\n",
        "import matplotlib.pyplot as plt\n",
        "import warnings\n",
        "import pickle\n",
        "import re\n",
        "from collections import Counter"
      ],
      "metadata": {
        "colab": {
          "base_uri": "https://localhost:8080/"
        },
        "id": "3IV9z8hYCGHA",
        "outputId": "9e1adc1c-e687-4625-c781-8f69cf4d8f1e"
      },
      "execution_count": null,
      "outputs": [
        {
          "output_type": "stream",
          "name": "stderr",
          "text": [
            "[nltk_data] Downloading package stopwords to /root/nltk_data...\n",
            "[nltk_data]   Unzipping corpora/stopwords.zip.\n"
          ]
        }
      ]
    },
    {
      "cell_type": "code",
      "source": [
        "#connecting cloab notebook with google collab\n",
        "from google.colab import drive\n",
        "drive.mount('/content/drive')"
      ],
      "metadata": {
        "colab": {
          "base_uri": "https://localhost:8080/"
        },
        "id": "DXMBPTOOCX7T",
        "outputId": "2fe7f98d-36c4-43f5-b1b3-302d8ff780dd"
      },
      "execution_count": null,
      "outputs": [
        {
          "output_type": "stream",
          "name": "stdout",
          "text": [
            "Mounted at /content/drive\n"
          ]
        }
      ]
    },
    {
      "cell_type": "code",
      "source": [
        "claims_data = pd.read_csv('/content/drive/MyDrive/MyLearning_using_raspberry_pi/Virtusa/MIMIC-III-Final.csv.zip (Unzipped Files)/MIMIC-III-Final.csv')\n",
        "claims_data.head()"
      ],
      "metadata": {
        "colab": {
          "base_uri": "https://localhost:8080/",
          "height": 206
        },
        "id": "U5gWBu-eDgPo",
        "outputId": "439134ca-b460-4ebc-eba5-940abebe1a3e"
      },
      "execution_count": null,
      "outputs": [
        {
          "output_type": "execute_result",
          "data": {
            "text/html": [
              "\n",
              "  <div id=\"df-7996420f-4c5f-4f77-9f7a-24b52c2b5b16\">\n",
              "    <div class=\"colab-df-container\">\n",
              "      <div>\n",
              "<style scoped>\n",
              "    .dataframe tbody tr th:only-of-type {\n",
              "        vertical-align: middle;\n",
              "    }\n",
              "\n",
              "    .dataframe tbody tr th {\n",
              "        vertical-align: top;\n",
              "    }\n",
              "\n",
              "    .dataframe thead th {\n",
              "        text-align: right;\n",
              "    }\n",
              "</style>\n",
              "<table border=\"1\" class=\"dataframe\">\n",
              "  <thead>\n",
              "    <tr style=\"text-align: right;\">\n",
              "      <th></th>\n",
              "      <th>Unnamed: 0</th>\n",
              "      <th>TEXT</th>\n",
              "      <th>HADM_ID</th>\n",
              "      <th>ICD9_CODE</th>\n",
              "    </tr>\n",
              "  </thead>\n",
              "  <tbody>\n",
              "    <tr>\n",
              "      <th>0</th>\n",
              "      <td>0</td>\n",
              "      <td>{Admission Date:  [**2117-9-11**]             ...</td>\n",
              "      <td>100001.0</td>\n",
              "      <td>['25013', '3371', '5849', '5780', 'V5867', '25...</td>\n",
              "    </tr>\n",
              "    <tr>\n",
              "      <th>1</th>\n",
              "      <td>1</td>\n",
              "      <td>{Admission Date:  [**2150-4-17**]             ...</td>\n",
              "      <td>100003.0</td>\n",
              "      <td>['53100', '2851', '07054', '5715', '45621', '5...</td>\n",
              "    </tr>\n",
              "    <tr>\n",
              "      <th>2</th>\n",
              "      <td>2</td>\n",
              "      <td>{Admission Date:  [**2108-4-6**]       Dischar...</td>\n",
              "      <td>100006.0</td>\n",
              "      <td>['49320', '51881', '486', '20300', '2761', '78...</td>\n",
              "    </tr>\n",
              "    <tr>\n",
              "      <th>3</th>\n",
              "      <td>3</td>\n",
              "      <td>{Admission Date:  [**2145-3-31**]             ...</td>\n",
              "      <td>100007.0</td>\n",
              "      <td>['56081', '5570', '9973', '486', '4019']</td>\n",
              "    </tr>\n",
              "    <tr>\n",
              "      <th>4</th>\n",
              "      <td>4</td>\n",
              "      <td>{Admission Date:  [**2162-5-16**]             ...</td>\n",
              "      <td>100009.0</td>\n",
              "      <td>['41401', '99604', '4142', '25000', '27800', '...</td>\n",
              "    </tr>\n",
              "  </tbody>\n",
              "</table>\n",
              "</div>\n",
              "      <button class=\"colab-df-convert\" onclick=\"convertToInteractive('df-7996420f-4c5f-4f77-9f7a-24b52c2b5b16')\"\n",
              "              title=\"Convert this dataframe to an interactive table.\"\n",
              "              style=\"display:none;\">\n",
              "        \n",
              "  <svg xmlns=\"http://www.w3.org/2000/svg\" height=\"24px\"viewBox=\"0 0 24 24\"\n",
              "       width=\"24px\">\n",
              "    <path d=\"M0 0h24v24H0V0z\" fill=\"none\"/>\n",
              "    <path d=\"M18.56 5.44l.94 2.06.94-2.06 2.06-.94-2.06-.94-.94-2.06-.94 2.06-2.06.94zm-11 1L8.5 8.5l.94-2.06 2.06-.94-2.06-.94L8.5 2.5l-.94 2.06-2.06.94zm10 10l.94 2.06.94-2.06 2.06-.94-2.06-.94-.94-2.06-.94 2.06-2.06.94z\"/><path d=\"M17.41 7.96l-1.37-1.37c-.4-.4-.92-.59-1.43-.59-.52 0-1.04.2-1.43.59L10.3 9.45l-7.72 7.72c-.78.78-.78 2.05 0 2.83L4 21.41c.39.39.9.59 1.41.59.51 0 1.02-.2 1.41-.59l7.78-7.78 2.81-2.81c.8-.78.8-2.07 0-2.86zM5.41 20L4 18.59l7.72-7.72 1.47 1.35L5.41 20z\"/>\n",
              "  </svg>\n",
              "      </button>\n",
              "      \n",
              "  <style>\n",
              "    .colab-df-container {\n",
              "      display:flex;\n",
              "      flex-wrap:wrap;\n",
              "      gap: 12px;\n",
              "    }\n",
              "\n",
              "    .colab-df-convert {\n",
              "      background-color: #E8F0FE;\n",
              "      border: none;\n",
              "      border-radius: 50%;\n",
              "      cursor: pointer;\n",
              "      display: none;\n",
              "      fill: #1967D2;\n",
              "      height: 32px;\n",
              "      padding: 0 0 0 0;\n",
              "      width: 32px;\n",
              "    }\n",
              "\n",
              "    .colab-df-convert:hover {\n",
              "      background-color: #E2EBFA;\n",
              "      box-shadow: 0px 1px 2px rgba(60, 64, 67, 0.3), 0px 1px 3px 1px rgba(60, 64, 67, 0.15);\n",
              "      fill: #174EA6;\n",
              "    }\n",
              "\n",
              "    [theme=dark] .colab-df-convert {\n",
              "      background-color: #3B4455;\n",
              "      fill: #D2E3FC;\n",
              "    }\n",
              "\n",
              "    [theme=dark] .colab-df-convert:hover {\n",
              "      background-color: #434B5C;\n",
              "      box-shadow: 0px 1px 3px 1px rgba(0, 0, 0, 0.15);\n",
              "      filter: drop-shadow(0px 1px 2px rgba(0, 0, 0, 0.3));\n",
              "      fill: #FFFFFF;\n",
              "    }\n",
              "  </style>\n",
              "\n",
              "      <script>\n",
              "        const buttonEl =\n",
              "          document.querySelector('#df-7996420f-4c5f-4f77-9f7a-24b52c2b5b16 button.colab-df-convert');\n",
              "        buttonEl.style.display =\n",
              "          google.colab.kernel.accessAllowed ? 'block' : 'none';\n",
              "\n",
              "        async function convertToInteractive(key) {\n",
              "          const element = document.querySelector('#df-7996420f-4c5f-4f77-9f7a-24b52c2b5b16');\n",
              "          const dataTable =\n",
              "            await google.colab.kernel.invokeFunction('convertToInteractive',\n",
              "                                                     [key], {});\n",
              "          if (!dataTable) return;\n",
              "\n",
              "          const docLinkHtml = 'Like what you see? Visit the ' +\n",
              "            '<a target=\"_blank\" href=https://colab.research.google.com/notebooks/data_table.ipynb>data table notebook</a>'\n",
              "            + ' to learn more about interactive tables.';\n",
              "          element.innerHTML = '';\n",
              "          dataTable['output_type'] = 'display_data';\n",
              "          await google.colab.output.renderOutput(dataTable, element);\n",
              "          const docLink = document.createElement('div');\n",
              "          docLink.innerHTML = docLinkHtml;\n",
              "          element.appendChild(docLink);\n",
              "        }\n",
              "      </script>\n",
              "    </div>\n",
              "  </div>\n",
              "  "
            ],
            "text/plain": [
              "   Unnamed: 0  ...                                          ICD9_CODE\n",
              "0           0  ...  ['25013', '3371', '5849', '5780', 'V5867', '25...\n",
              "1           1  ...  ['53100', '2851', '07054', '5715', '45621', '5...\n",
              "2           2  ...  ['49320', '51881', '486', '20300', '2761', '78...\n",
              "3           3  ...           ['56081', '5570', '9973', '486', '4019']\n",
              "4           4  ...  ['41401', '99604', '4142', '25000', '27800', '...\n",
              "\n",
              "[5 rows x 4 columns]"
            ]
          },
          "metadata": {},
          "execution_count": 4
        }
      ]
    },
    {
      "cell_type": "markdown",
      "source": [
        "**Python script to extract keywords from the dataset text column to decide the features to extract**"
      ],
      "metadata": {
        "id": "iLcFHQVIDQVu"
      }
    },
    {
      "cell_type": "code",
      "source": [
        "def covert_list_dict(l):\n",
        "  unique_list = list(set(l))\n",
        "  dic = {}\n",
        "  for i in unique_list:\n",
        "    dic[i] = l.count(i)\n",
        "  return dic\n",
        "\n",
        "def get_keywords(text):\n",
        "  original_text = text\n",
        "  doubt_index = [_.start() for _ in re.finditer(':',text)] \n",
        "  if len(doubt_index)>1:\n",
        "    result = []\n",
        "    for i in doubt_index:\n",
        "      text = original_text\n",
        "      text = text[:i]\n",
        "      stop_index_dot = text[:i].rfind(\"\\.\")\n",
        "      stop_index_line = text[:i].rfind(\"\\n\")\n",
        "      stop_index = max(stop_index_dot,stop_index_line)\n",
        "      hopi = text[stop_index:i]\n",
        "      output = True\n",
        "      for i in range(10):\n",
        "        a = hopi.find(str(i))\n",
        "        if a!=-1:\n",
        "          output = False\n",
        "      if output:\n",
        "          result.append(hopi)\n",
        "    dic_output = covert_list_dict(result)\n",
        "    return dic_output"
      ],
      "metadata": {
        "id": "JiD3D-ScCcXa"
      },
      "execution_count": null,
      "outputs": []
    },
    {
      "cell_type": "markdown",
      "source": [
        "**Extracted keywords with the frequency count**"
      ],
      "metadata": {
        "id": "3J2xMDvEE8Ud"
      }
    },
    {
      "cell_type": "code",
      "source": [
        "df_headings = pd.read_csv('/content/drive/MyDrive/MyLearning_using_raspberry_pi/Virtusa/MIMIC-III-Final.csv.zip (Unzipped Files)/Headings_count_data.csv')\n",
        "df1_headings = df_headings.sort_values(\"Repeated_Count\",axis=0,ascending=False)\n",
        "df1_headings = df1_headings[2:]\n",
        "df2_headings = df1_headings.head(45)\n",
        "df2_headings.reset_index(drop=True,inplace=True)\n",
        "from matplotlib.pyplot import figure\n",
        "figure(figsize=(12, 10), dpi=80)\n",
        "ranks = df2_headings[\"Repeated_Count\"].sort_values().index\n",
        "palette = sns.color_palette('Blues_d',len(ranks))\n",
        "ax = sns.barplot(x='Headings',y='Repeated_Count',palette=np.array(palette)[ranks],data=df2_headings)\n",
        "L = df2_headings[\"Headings\"].tolist()\n",
        "for item in ax.get_xticklabels():\n",
        "  item.set_rotation(90)"
      ],
      "metadata": {
        "colab": {
          "base_uri": "https://localhost:8080/",
          "height": 863
        },
        "id": "autAK8YTDhsF",
        "outputId": "8944a8f0-9819-417e-88b1-42f1cb765af4"
      },
      "execution_count": null,
      "outputs": [
        {
          "output_type": "display_data",
          "data": {
            "image/png": "[encoded data removed]",
            "text/plain": [
              "<Figure size 960x800 with 1 Axes>"
            ]
          },
          "metadata": {
            "needs_background": "light"
          }
        }
      ]
    },
    {
      "cell_type": "markdown",
      "source": [
        "**Select 11 columns based on the frequency and importance of them in the health domain**\n",
        "\n",
        "\n",
        "1.   Gender\n",
        "2.   history_of_present_illness\n",
        "1.   past_medical_history\n",
        "2.   social_history\n",
        "1.   family_history\n",
        "2.   physical_exam\n",
        "1.   chief_complaint\n",
        "2.   medications_on_admission\n",
        "1.   major_surgical_or_invasive_procedure\n",
        "2.   discharge_diagnosis\n",
        "1.   discharge_condition\n",
        "\n"
      ],
      "metadata": {
        "id": "742hiDlSFM6r"
      }
    },
    {
      "cell_type": "markdown",
      "source": [
        "**Python script to extract the above 11 features from the raw text data in the dataset**"
      ],
      "metadata": {
        "id": "2uz7iNX8Ha0c"
      }
    },
    {
      "cell_type": "code",
      "source": [
        "def extract_column_values(text,column_value):\n",
        "  index = text.find(column_value)\n",
        "  original_text = text\n",
        "  doubt_index = [_.start() for _ in re.finditer(column_value,text)] \n",
        "  if len(doubt_index)>1:\n",
        "    result = \"\"\n",
        "    for i in doubt_index:\n",
        "      text = original_text\n",
        "      text = text[i+len(column_value):]\n",
        "      colon_index = text.find(':')\n",
        "      stop_index_dot = text[:colon_index].rfind(\"\\.\")\n",
        "      stop_index_line = text[:colon_index].rfind(\"\\n\")\n",
        "      stop_index = max(stop_index_dot,stop_index_line)\n",
        "      hopi = text[:stop_index]\n",
        "      result += hopi\n",
        "    return result.strip()\n",
        "\n",
        "  if index == -1:\n",
        "    return np.nan\n",
        "  text = text[index+len(column_value):]\n",
        "  colon_index = text.find(':')\n",
        "  stop_index_dot = text[:colon_index].rfind(\"\\.\")\n",
        "  stop_index_line = text[:colon_index].rfind(\"\\n\")\n",
        "  stop_index = max(stop_index_dot,stop_index_line)\n",
        "  hopi = text[:stop_index]\n",
        "  return hopi.strip()\n",
        "\n",
        "#Example we can all of them with same process as below. it showing for social-history\n",
        "#claims_data = claims_data.assign(social_history = lambda x : [extract_column_values(i,'social history:') for i in x['TEXT'] ])\n",
        "#claims_data['social_history'] = claims_data['social_history'].replace({\"\":np.nan})"
      ],
      "metadata": {
        "id": "zTjgfZaTErYG"
      },
      "execution_count": null,
      "outputs": []
    },
    {
      "cell_type": "code",
      "source": [
        "#Extracted dataset with 11 features\n",
        "claims_data = pd.read_csv('/content/drive/MyDrive/MyLearning_using_raspberry_pi/Virtusa/MIMIC-III-Final.csv.zip (Unzipped Files)/Extract_features/11_features.csv')\n",
        "claims_data.head(3)\n"
      ],
      "metadata": {
        "colab": {
          "base_uri": "https://localhost:8080/",
          "height": 404
        },
        "id": "Sj3MhQ03Fi_X",
        "outputId": "90ef5c03-bd39-43a6-cb6c-5a0f4c9a760d"
      },
      "execution_count": null,
      "outputs": [
        {
          "output_type": "execute_result",
          "data": {
            "text/html": [
              "\n",
              "  <div id=\"df-d52f2cf3-9745-4734-a2fd-cdd4a04d8118\">\n",
              "    <div class=\"colab-df-container\">\n",
              "      <div>\n",
              "<style scoped>\n",
              "    .dataframe tbody tr th:only-of-type {\n",
              "        vertical-align: middle;\n",
              "    }\n",
              "\n",
              "    .dataframe tbody tr th {\n",
              "        vertical-align: top;\n",
              "    }\n",
              "\n",
              "    .dataframe thead th {\n",
              "        text-align: right;\n",
              "    }\n",
              "</style>\n",
              "<table border=\"1\" class=\"dataframe\">\n",
              "  <thead>\n",
              "    <tr style=\"text-align: right;\">\n",
              "      <th></th>\n",
              "      <th>TEXT</th>\n",
              "      <th>HADM_ID</th>\n",
              "      <th>ICD9_CODE</th>\n",
              "      <th>Gender</th>\n",
              "      <th>history_of_present_illness</th>\n",
              "      <th>past_medical_history</th>\n",
              "      <th>social_history</th>\n",
              "      <th>discharge_diagnosis</th>\n",
              "      <th>medications_on_admission</th>\n",
              "      <th>family_history</th>\n",
              "      <th>chief_complaint</th>\n",
              "      <th>discharge_condition</th>\n",
              "      <th>physical_exam</th>\n",
              "      <th>major_surgical_or_invasive_procedure</th>\n",
              "    </tr>\n",
              "  </thead>\n",
              "  <tbody>\n",
              "    <tr>\n",
              "      <th>0</th>\n",
              "      <td>{admission date:  [**2117-9-11**]             ...</td>\n",
              "      <td>100001.0</td>\n",
              "      <td>['25013', '3371', '5849', '5780', 'V5867', '25...</td>\n",
              "      <td>f</td>\n",
              "      <td>35f w/ poorly controlled type 1 diabetes melli...</td>\n",
              "      <td>type 1 diabetes mellitis w/ neuropathy, nephro...</td>\n",
              "      <td>patient lives at home in [**location (un) **] ...</td>\n",
              "      <td>diabetic keotacidosis\\nhematemesis (blood in y...</td>\n",
              "      <td>NaN</td>\n",
              "      <td>both parents have htn and t2dm. grandfather ha...</td>\n",
              "      <td>nausea, vomiting</td>\n",
              "      <td>NaN</td>\n",
              "      <td>:\\ngen: awake, alert, and oriented\\nheent: per...</td>\n",
              "      <td>none</td>\n",
              "    </tr>\n",
              "    <tr>\n",
              "      <th>1</th>\n",
              "      <td>{admission date:  [**2150-4-17**]             ...</td>\n",
              "      <td>100003.0</td>\n",
              "      <td>['53100', '2851', '07054', '5715', '45621', '5...</td>\n",
              "      <td>m</td>\n",
              "      <td>mr. [**known lastname 52368**] is a 59m w hepc...</td>\n",
              "      <td>hcv cirrhosis (tx with interferon x2 with no r...</td>\n",
              "      <td>he lives alone.  he is drinking alcohol, usual...</td>\n",
              "      <td>peptic ulcer\\ngi bleed</td>\n",
              "      <td>furosemide 20mg daily\\nlisinopril 10 mg daily\\...</td>\n",
              "      <td>nc</td>\n",
              "      <td>coffee ground emesis</td>\n",
              "      <td>asymptomatic</td>\n",
              "      <td>:\\non admission:\\nvs: t95.9 hr 71 bp 83/36 rr ...</td>\n",
              "      <td>egd\\nright ij cvl</td>\n",
              "    </tr>\n",
              "    <tr>\n",
              "      <th>2</th>\n",
              "      <td>{admission date:  [**2108-4-6**]       dischar...</td>\n",
              "      <td>100006.0</td>\n",
              "      <td>['49320', '51881', '486', '20300', '2761', '78...</td>\n",
              "      <td>f</td>\n",
              "      <td>this is a 48 year old african\\namerican female...</td>\n",
              "      <td>1.  multiple myeloma diagnosed in [**2107-12-9...</td>\n",
              "      <td>socially, she lives with her children and\\nwor...</td>\n",
              "      <td>NaN</td>\n",
              "      <td>NaN</td>\n",
              "      <td>family history shows father died of an\\nmyocar...</td>\n",
              "      <td>dyspnea.</td>\n",
              "      <td>NaN</td>\n",
              "      <td>ination upon admission:  temperature, 96.6;\\nh...</td>\n",
              "      <td>NaN</td>\n",
              "    </tr>\n",
              "  </tbody>\n",
              "</table>\n",
              "</div>\n",
              "      <button class=\"colab-df-convert\" onclick=\"convertToInteractive('df-d52f2cf3-9745-4734-a2fd-cdd4a04d8118')\"\n",
              "              title=\"Convert this dataframe to an interactive table.\"\n",
              "              style=\"display:none;\">\n",
              "        \n",
              "  <svg xmlns=\"http://www.w3.org/2000/svg\" height=\"24px\"viewBox=\"0 0 24 24\"\n",
              "       width=\"24px\">\n",
              "    <path d=\"M0 0h24v24H0V0z\" fill=\"none\"/>\n",
              "    <path d=\"M18.56 5.44l.94 2.06.94-2.06 2.06-.94-2.06-.94-.94-2.06-.94 2.06-2.06.94zm-11 1L8.5 8.5l.94-2.06 2.06-.94-2.06-.94L8.5 2.5l-.94 2.06-2.06.94zm10 10l.94 2.06.94-2.06 2.06-.94-2.06-.94-.94-2.06-.94 2.06-2.06.94z\"/><path d=\"M17.41 7.96l-1.37-1.37c-.4-.4-.92-.59-1.43-.59-.52 0-1.04.2-1.43.59L10.3 9.45l-7.72 7.72c-.78.78-.78 2.05 0 2.83L4 21.41c.39.39.9.59 1.41.59.51 0 1.02-.2 1.41-.59l7.78-7.78 2.81-2.81c.8-.78.8-2.07 0-2.86zM5.41 20L4 18.59l7.72-7.72 1.47 1.35L5.41 20z\"/>\n",
              "  </svg>\n",
              "      </button>\n",
              "      \n",
              "  <style>\n",
              "    .colab-df-container {\n",
              "      display:flex;\n",
              "      flex-wrap:wrap;\n",
              "      gap: 12px;\n",
              "    }\n",
              "\n",
              "    .colab-df-convert {\n",
              "      background-color: #E8F0FE;\n",
              "      border: none;\n",
              "      border-radius: 50%;\n",
              "      cursor: pointer;\n",
              "      display: none;\n",
              "      fill: #1967D2;\n",
              "      height: 32px;\n",
              "      padding: 0 0 0 0;\n",
              "      width: 32px;\n",
              "    }\n",
              "\n",
              "    .colab-df-convert:hover {\n",
              "      background-color: #E2EBFA;\n",
              "      box-shadow: 0px 1px 2px rgba(60, 64, 67, 0.3), 0px 1px 3px 1px rgba(60, 64, 67, 0.15);\n",
              "      fill: #174EA6;\n",
              "    }\n",
              "\n",
              "    [theme=dark] .colab-df-convert {\n",
              "      background-color: #3B4455;\n",
              "      fill: #D2E3FC;\n",
              "    }\n",
              "\n",
              "    [theme=dark] .colab-df-convert:hover {\n",
              "      background-color: #434B5C;\n",
              "      box-shadow: 0px 1px 3px 1px rgba(0, 0, 0, 0.15);\n",
              "      filter: drop-shadow(0px 1px 2px rgba(0, 0, 0, 0.3));\n",
              "      fill: #FFFFFF;\n",
              "    }\n",
              "  </style>\n",
              "\n",
              "      <script>\n",
              "        const buttonEl =\n",
              "          document.querySelector('#df-d52f2cf3-9745-4734-a2fd-cdd4a04d8118 button.colab-df-convert');\n",
              "        buttonEl.style.display =\n",
              "          google.colab.kernel.accessAllowed ? 'block' : 'none';\n",
              "\n",
              "        async function convertToInteractive(key) {\n",
              "          const element = document.querySelector('#df-d52f2cf3-9745-4734-a2fd-cdd4a04d8118');\n",
              "          const dataTable =\n",
              "            await google.colab.kernel.invokeFunction('convertToInteractive',\n",
              "                                                     [key], {});\n",
              "          if (!dataTable) return;\n",
              "\n",
              "          const docLinkHtml = 'Like what you see? Visit the ' +\n",
              "            '<a target=\"_blank\" href=https://colab.research.google.com/notebooks/data_table.ipynb>data table notebook</a>'\n",
              "            + ' to learn more about interactive tables.';\n",
              "          element.innerHTML = '';\n",
              "          dataTable['output_type'] = 'display_data';\n",
              "          await google.colab.output.renderOutput(dataTable, element);\n",
              "          const docLink = document.createElement('div');\n",
              "          docLink.innerHTML = docLinkHtml;\n",
              "          element.appendChild(docLink);\n",
              "        }\n",
              "      </script>\n",
              "    </div>\n",
              "  </div>\n",
              "  "
            ],
            "text/plain": [
              "                                                TEXT  ...  major_surgical_or_invasive_procedure\n",
              "0  {admission date:  [**2117-9-11**]             ...  ...                                  none\n",
              "1  {admission date:  [**2150-4-17**]             ...  ...                     egd\\nright ij cvl\n",
              "2  {admission date:  [**2108-4-6**]       dischar...  ...                                   NaN\n",
              "\n",
              "[3 rows x 14 columns]"
            ]
          },
          "metadata": {},
          "execution_count": 15
        }
      ]
    },
    {
      "cell_type": "markdown",
      "source": [
        "**Done Data cleaning for those 11 features**"
      ],
      "metadata": {
        "id": "CT4xpn4CLPly"
      }
    },
    {
      "cell_type": "code",
      "source": [
        "L = list(claims_data.columns)[3:]\n",
        "L"
      ],
      "metadata": {
        "colab": {
          "base_uri": "https://localhost:8080/"
        },
        "id": "CsUrdpOMMcq0",
        "outputId": "6d18f73e-4652-4e7a-8013-fc40af327a6d"
      },
      "execution_count": null,
      "outputs": [
        {
          "output_type": "execute_result",
          "data": {
            "text/plain": [
              "['Gender',\n",
              " 'history_of_present_illness',\n",
              " 'past_medical_history',\n",
              " 'social_history',\n",
              " 'discharge_diagnosis',\n",
              " 'medications_on_admission',\n",
              " 'family_history',\n",
              " 'chief_complaint',\n",
              " 'discharge_condition',\n",
              " 'physical_exam',\n",
              " 'major_surgical_or_invasive_procedure']"
            ]
          },
          "metadata": {},
          "execution_count": 18
        }
      ]
    },
    {
      "cell_type": "code",
      "source": [
        "# replace the matching strings\n",
        "claims_data = claims_data.replace(to_replace ='\\[\\*+.*\\*+\\]', value = ' ', regex = True)\n",
        "\n",
        "# let's do text preprocessing\n",
        "from texthero import preprocessing\n",
        "\n",
        "# creating a custom pipeline to preprocess the raw text we have\n",
        "custom_pipeline = [preprocessing.fillna\n",
        "                   , preprocessing.lowercase\n",
        "                  #  , preprocessing.remove_digits # you can uncomment this if you want to remove digits as well.\n",
        "                   , preprocessing.remove_punctuation\n",
        "                   , preprocessing.remove_diacritics\n",
        "                   , preprocessing.remove_stopwords\n",
        "                   , preprocessing.remove_whitespace\n",
        "                   , preprocessing.stem]\n",
        "\n",
        "# simply call clean() method to clean the raw text in 'TEXT' col and pass the custom_pipeline to pipeline argument\n",
        "count = 0\n",
        "for i in L:\n",
        "    claims_data[i] = hero.clean(claims_data[i], pipeline = custom_pipeline)\n",
        "    count+=1"
      ],
      "metadata": {
        "id": "bFTszn50Kkrh"
      },
      "execution_count": null,
      "outputs": []
    },
    {
      "cell_type": "code",
      "source": [
        "claims_data.head(2)"
      ],
      "metadata": {
        "colab": {
          "base_uri": "https://localhost:8080/",
          "height": 307
        },
        "id": "O24YtrlELx5x",
        "outputId": "df1300ac-3634-475c-f410-4411ab597225"
      },
      "execution_count": null,
      "outputs": [
        {
          "output_type": "execute_result",
          "data": {
            "text/html": [
              "\n",
              "  <div id=\"df-62c44824-6c6f-46a3-885a-5d4d5cf91fba\">\n",
              "    <div class=\"colab-df-container\">\n",
              "      <div>\n",
              "<style scoped>\n",
              "    .dataframe tbody tr th:only-of-type {\n",
              "        vertical-align: middle;\n",
              "    }\n",
              "\n",
              "    .dataframe tbody tr th {\n",
              "        vertical-align: top;\n",
              "    }\n",
              "\n",
              "    .dataframe thead th {\n",
              "        text-align: right;\n",
              "    }\n",
              "</style>\n",
              "<table border=\"1\" class=\"dataframe\">\n",
              "  <thead>\n",
              "    <tr style=\"text-align: right;\">\n",
              "      <th></th>\n",
              "      <th>TEXT</th>\n",
              "      <th>HADM_ID</th>\n",
              "      <th>ICD9_CODE</th>\n",
              "      <th>Gender</th>\n",
              "      <th>history_of_present_illness</th>\n",
              "      <th>past_medical_history</th>\n",
              "      <th>social_history</th>\n",
              "      <th>discharge_diagnosis</th>\n",
              "      <th>medications_on_admission</th>\n",
              "      <th>family_history</th>\n",
              "      <th>chief_complaint</th>\n",
              "      <th>discharge_condition</th>\n",
              "      <th>physical_exam</th>\n",
              "      <th>major_surgical_or_invasive_procedure</th>\n",
              "    </tr>\n",
              "  </thead>\n",
              "  <tbody>\n",
              "    <tr>\n",
              "      <th>0</th>\n",
              "      <td>{admission date:   \\n\\ndate of birth:         ...</td>\n",
              "      <td>100001.0</td>\n",
              "      <td>['25013', '3371', '5849', '5780', 'V5867', '25...</td>\n",
              "      <td>f</td>\n",
              "      <td>35f w poor control type 1 diabet mellitus w ne...</td>\n",
              "      <td>type 1 diabet melliti w neuropathi nephropathi...</td>\n",
              "      <td>patient live home 8 daughter boyfriend histori...</td>\n",
              "      <td>diabet keotacidosi hematemesi blood vomit hype...</td>\n",
              "      <td></td>\n",
              "      <td>parent htn t2dm grandfath mi 40s</td>\n",
              "      <td>nausea vomit</td>\n",
              "      <td></td>\n",
              "      <td>gen awak alert orient heent perrla mmm jvd nec...</td>\n",
              "      <td>none</td>\n",
              "    </tr>\n",
              "    <tr>\n",
              "      <th>1</th>\n",
              "      <td>{admission date:   \\n\\ndate of birth:         ...</td>\n",
              "      <td>100003.0</td>\n",
              "      <td>['53100', '2851', '07054', '5715', '45621', '5...</td>\n",
              "      <td></td>\n",
              "      <td>mr 59m w hepc cirrhosi c b grade ii esophag va...</td>\n",
              "      <td>hcv cirrhosi tx interferon x2 respons portal g...</td>\n",
              "      <td>live alon drink alcohol usual one session per ...</td>\n",
              "      <td>peptic ulcer gi bleed</td>\n",
              "      <td>furosemid 20mg daili lisinopril 10 mg daili sp...</td>\n",
              "      <td>nc</td>\n",
              "      <td>coffe ground emesi</td>\n",
              "      <td>asymptomat</td>\n",
              "      <td>admiss vs t95 9 hr 71 bp 83 36 rr 11 96 2l nc ...</td>\n",
              "      <td>egd right ij cvl</td>\n",
              "    </tr>\n",
              "  </tbody>\n",
              "</table>\n",
              "</div>\n",
              "      <button class=\"colab-df-convert\" onclick=\"convertToInteractive('df-62c44824-6c6f-46a3-885a-5d4d5cf91fba')\"\n",
              "              title=\"Convert this dataframe to an interactive table.\"\n",
              "              style=\"display:none;\">\n",
              "        \n",
              "  <svg xmlns=\"http://www.w3.org/2000/svg\" height=\"24px\"viewBox=\"0 0 24 24\"\n",
              "       width=\"24px\">\n",
              "    <path d=\"M0 0h24v24H0V0z\" fill=\"none\"/>\n",
              "    <path d=\"M18.56 5.44l.94 2.06.94-2.06 2.06-.94-2.06-.94-.94-2.06-.94 2.06-2.06.94zm-11 1L8.5 8.5l.94-2.06 2.06-.94-2.06-.94L8.5 2.5l-.94 2.06-2.06.94zm10 10l.94 2.06.94-2.06 2.06-.94-2.06-.94-.94-2.06-.94 2.06-2.06.94z\"/><path d=\"M17.41 7.96l-1.37-1.37c-.4-.4-.92-.59-1.43-.59-.52 0-1.04.2-1.43.59L10.3 9.45l-7.72 7.72c-.78.78-.78 2.05 0 2.83L4 21.41c.39.39.9.59 1.41.59.51 0 1.02-.2 1.41-.59l7.78-7.78 2.81-2.81c.8-.78.8-2.07 0-2.86zM5.41 20L4 18.59l7.72-7.72 1.47 1.35L5.41 20z\"/>\n",
              "  </svg>\n",
              "      </button>\n",
              "      \n",
              "  <style>\n",
              "    .colab-df-container {\n",
              "      display:flex;\n",
              "      flex-wrap:wrap;\n",
              "      gap: 12px;\n",
              "    }\n",
              "\n",
              "    .colab-df-convert {\n",
              "      background-color: #E8F0FE;\n",
              "      border: none;\n",
              "      border-radius: 50%;\n",
              "      cursor: pointer;\n",
              "      display: none;\n",
              "      fill: #1967D2;\n",
              "      height: 32px;\n",
              "      padding: 0 0 0 0;\n",
              "      width: 32px;\n",
              "    }\n",
              "\n",
              "    .colab-df-convert:hover {\n",
              "      background-color: #E2EBFA;\n",
              "      box-shadow: 0px 1px 2px rgba(60, 64, 67, 0.3), 0px 1px 3px 1px rgba(60, 64, 67, 0.15);\n",
              "      fill: #174EA6;\n",
              "    }\n",
              "\n",
              "    [theme=dark] .colab-df-convert {\n",
              "      background-color: #3B4455;\n",
              "      fill: #D2E3FC;\n",
              "    }\n",
              "\n",
              "    [theme=dark] .colab-df-convert:hover {\n",
              "      background-color: #434B5C;\n",
              "      box-shadow: 0px 1px 3px 1px rgba(0, 0, 0, 0.15);\n",
              "      filter: drop-shadow(0px 1px 2px rgba(0, 0, 0, 0.3));\n",
              "      fill: #FFFFFF;\n",
              "    }\n",
              "  </style>\n",
              "\n",
              "      <script>\n",
              "        const buttonEl =\n",
              "          document.querySelector('#df-62c44824-6c6f-46a3-885a-5d4d5cf91fba button.colab-df-convert');\n",
              "        buttonEl.style.display =\n",
              "          google.colab.kernel.accessAllowed ? 'block' : 'none';\n",
              "\n",
              "        async function convertToInteractive(key) {\n",
              "          const element = document.querySelector('#df-62c44824-6c6f-46a3-885a-5d4d5cf91fba');\n",
              "          const dataTable =\n",
              "            await google.colab.kernel.invokeFunction('convertToInteractive',\n",
              "                                                     [key], {});\n",
              "          if (!dataTable) return;\n",
              "\n",
              "          const docLinkHtml = 'Like what you see? Visit the ' +\n",
              "            '<a target=\"_blank\" href=https://colab.research.google.com/notebooks/data_table.ipynb>data table notebook</a>'\n",
              "            + ' to learn more about interactive tables.';\n",
              "          element.innerHTML = '';\n",
              "          dataTable['output_type'] = 'display_data';\n",
              "          await google.colab.output.renderOutput(dataTable, element);\n",
              "          const docLink = document.createElement('div');\n",
              "          docLink.innerHTML = docLinkHtml;\n",
              "          element.appendChild(docLink);\n",
              "        }\n",
              "      </script>\n",
              "    </div>\n",
              "  </div>\n",
              "  "
            ],
            "text/plain": [
              "                                                TEXT  ...  major_surgical_or_invasive_procedure\n",
              "0  {admission date:   \\n\\ndate of birth:         ...  ...                                  none\n",
              "1  {admission date:   \\n\\ndate of birth:         ...  ...                      egd right ij cvl\n",
              "\n",
              "[2 rows x 14 columns]"
            ]
          },
          "metadata": {},
          "execution_count": 20
        }
      ]
    },
    {
      "cell_type": "code",
      "source": [
        "temp = claims_data['Gender'].value_counts()\n",
        "temp.plot(kind='barh')"
      ],
      "metadata": {
        "colab": {
          "base_uri": "https://localhost:8080/",
          "height": 282
        },
        "id": "sEIXKwj5Qem3",
        "outputId": "8f8d2855-511e-4ab5-e60c-cba43fc68eb8"
      },
      "execution_count": null,
      "outputs": [
        {
          "output_type": "execute_result",
          "data": {
            "text/plain": [
              "<matplotlib.axes._subplots.AxesSubplot at 0x7f71e3760090>"
            ]
          },
          "metadata": {},
          "execution_count": 21
        },
        {
          "output_type": "display_data",
          "data": {
            "image/png": "[encoded data removed]",
            "text/plain": [
              "<Figure size 432x288 with 1 Axes>"
            ]
          },
          "metadata": {
            "needs_background": "light"
          }
        }
      ]
    },
    {
      "cell_type": "code",
      "source": [
        ""
      ],
      "metadata": {
        "id": "tLOXV7OPRq2p"
      },
      "execution_count": null,
      "outputs": []
    }
  ]
}